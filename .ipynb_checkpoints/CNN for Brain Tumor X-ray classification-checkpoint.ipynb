{
 "cells": [
  {
   "cell_type": "code",
   "execution_count": null,
   "id": "16c0f73f",
   "metadata": {
    "id": "16c0f73f"
   },
   "outputs": [],
   "source": [
    "from tensorflow import keras\n",
    "import matplotlib.pyplot as plt\n",
    "import seaborn as sns\n",
    "import keras\n",
    "from keras.models import Sequential\n",
    "from keras.layers import Dense, Conv2D , MaxPool2D , Flatten , Dropout \n",
    "from keras.preprocessing.image import ImageDataGenerator\n",
    "from tensorflow.keras.optimizers import Adam\n",
    "from sklearn.metrics import classification_report,confusion_matrix\n",
    "import tensorflow as tf\n",
    "from collections import Counter\n",
    "from random import sample\n",
    "import cv2\n",
    "import os\n",
    "import numpy as np"
   ]
  },
  {
   "cell_type": "code",
   "execution_count": null,
   "id": "ac2d2e12",
   "metadata": {
    "id": "ac2d2e12"
   },
   "outputs": [],
   "source": [
    "labels = ['healthy', 'tumor']\n",
    "img_size = 120\n",
    "def get_data(data_dir):\n",
    "    data = [] \n",
    "    for label in labels: \n",
    "        path = os.path.join(data_dir, label)\n",
    "        class_num = labels.index(label)\n",
    "        for img in os.listdir(path):\n",
    "            try:\n",
    "                img_arr = cv2.imread(os.path.join(path, img))[...,::-1]\n",
    "                resized_arr = cv2.resize(img_arr, (img_size, img_size))\n",
    "                data.append([resized_arr, class_num])\n",
    "            except Exception as e:\n",
    "                print(e)\n",
    "    return np.array(data)"
   ]
  },
  {
   "cell_type": "code",
   "execution_count": null,
   "id": "aBaoIgRGEbFz",
   "metadata": {
    "colab": {
     "base_uri": "https://localhost:8080/"
    },
    "id": "aBaoIgRGEbFz",
    "outputId": "5da9ec0e-b2eb-44eb-902e-75097dc98a38"
   },
   "outputs": [
    {
     "name": "stdout",
     "output_type": "stream",
     "text": [
      "Drive already mounted at /content/drive; to attempt to forcibly remount, call drive.mount(\"/content/drive\", force_remount=True).\n"
     ]
    }
   ],
   "source": [
    "# Mount drive.\n",
    "from google.colab import drive\n",
    "drive.mount('/content/drive')"
   ]
  },
  {
   "cell_type": "code",
   "execution_count": null,
   "id": "c212b810",
   "metadata": {
    "colab": {
     "base_uri": "https://localhost:8080/"
    },
    "id": "c212b810",
    "outputId": "6e033462-a107-4c3c-e1d9-1c7704fb6305"
   },
   "outputs": [
    {
     "name": "stderr",
     "output_type": "stream",
     "text": [
      "/usr/local/lib/python3.7/dist-packages/ipykernel_launcher.py:15: VisibleDeprecationWarning: Creating an ndarray from ragged nested sequences (which is a list-or-tuple of lists-or-tuples-or ndarrays with different lengths or shapes) is deprecated. If you meant to do this, you must specify 'dtype=object' when creating the ndarray.\n",
      "  from ipykernel import kernelapp as app\n"
     ]
    }
   ],
   "source": [
    "train = get_data(os.getcwd() + '/drive/MyDrive/images/training_set/')\n"
   ]
  },
  {
   "cell_type": "code",
   "execution_count": null,
   "id": "njteVmzgOA1F",
   "metadata": {
    "colab": {
     "base_uri": "https://localhost:8080/"
    },
    "id": "njteVmzgOA1F",
    "outputId": "21c40cfa-4795-423c-b4cf-1d925ce137b9"
   },
   "outputs": [
    {
     "name": "stderr",
     "output_type": "stream",
     "text": [
      "/usr/local/lib/python3.7/dist-packages/ipykernel_launcher.py:15: VisibleDeprecationWarning: Creating an ndarray from ragged nested sequences (which is a list-or-tuple of lists-or-tuples-or ndarrays with different lengths or shapes) is deprecated. If you meant to do this, you must specify 'dtype=object' when creating the ndarray.\n",
      "  from ipykernel import kernelapp as app\n"
     ]
    }
   ],
   "source": [
    "val = get_data(os.getcwd() + '/drive/MyDrive/images/training_set/')\n"
   ]
  },
  {
   "cell_type": "code",
   "execution_count": null,
   "id": "KAsj1AyZOBtl",
   "metadata": {
    "colab": {
     "base_uri": "https://localhost:8080/"
    },
    "id": "KAsj1AyZOBtl",
    "outputId": "ef94e0a5-cff0-417e-fb77-527040aae3f4"
   },
   "outputs": [
    {
     "name": "stderr",
     "output_type": "stream",
     "text": [
      "/usr/local/lib/python3.7/dist-packages/ipykernel_launcher.py:15: VisibleDeprecationWarning: Creating an ndarray from ragged nested sequences (which is a list-or-tuple of lists-or-tuples-or ndarrays with different lengths or shapes) is deprecated. If you meant to do this, you must specify 'dtype=object' when creating the ndarray.\n",
      "  from ipykernel import kernelapp as app\n"
     ]
    }
   ],
   "source": [
    "test = get_data(os.getcwd() + '/drive/MyDrive/images/test_set/')"
   ]
  },
  {
   "cell_type": "code",
   "execution_count": null,
   "id": "ZkG8WtoFt2bJ",
   "metadata": {
    "id": "ZkG8WtoFt2bJ"
   },
   "outputs": [],
   "source": [
    "# same as get_data but return a normal array, to be used for validation random sampling (instead of sampling the multidimensional numpy array)\n",
    "def get_data2(data_dir):\n",
    "    data = [] \n",
    "    for label in labels: \n",
    "        path = os.path.join(data_dir, label)\n",
    "        class_num = labels.index(label)\n",
    "        for img in os.listdir(path):\n",
    "            try:\n",
    "                img_arr = cv2.imread(os.path.join(path, img))[...,::-1]\n",
    "                resized_arr = cv2.resize(img_arr, (img_size, img_size))\n",
    "                data.append([resized_arr, class_num])\n",
    "            except Exception as e:\n",
    "                print(e)\n",
    "    return data"
   ]
  },
  {
   "cell_type": "code",
   "execution_count": null,
   "id": "th_BBlqlt8ow",
   "metadata": {
    "id": "th_BBlqlt8ow"
   },
   "outputs": [],
   "source": [
    "val = get_data2(os.getcwd() + '/drive/MyDrive/images/training_set/')"
   ]
  },
  {
   "cell_type": "code",
   "execution_count": null,
   "id": "_svVqh4DnXcX",
   "metadata": {
    "colab": {
     "base_uri": "https://localhost:8080/"
    },
    "id": "_svVqh4DnXcX",
    "outputId": "f3d11573-8d9b-42ad-e6a0-a82308ea2e08"
   },
   "outputs": [
    {
     "name": "stderr",
     "output_type": "stream",
     "text": [
      "/usr/local/lib/python3.7/dist-packages/ipykernel_launcher.py:1: VisibleDeprecationWarning: Creating an ndarray from ragged nested sequences (which is a list-or-tuple of lists-or-tuples-or ndarrays with different lengths or shapes) is deprecated. If you meant to do this, you must specify 'dtype=object' when creating the ndarray.\n",
      "  \"\"\"Entry point for launching an IPython kernel.\n"
     ]
    }
   ],
   "source": [
    "valtemp=np.array(sample(val,int(len(val)*0.2)))"
   ]
  },
  {
   "cell_type": "code",
   "execution_count": null,
   "id": "710ef749",
   "metadata": {
    "id": "710ef749"
   },
   "outputs": [],
   "source": [
    "x_train = []\n",
    "y_train = []\n",
    "x_val = []\n",
    "y_val = []\n",
    "x_test = []\n",
    "y_test = []\n",
    "\n",
    "for feature, label in train:\n",
    "    x_train.append(feature)\n",
    "    y_train.append(label)\n",
    "\n",
    "for feature, label in valtemp:\n",
    "    x_val.append(feature)\n",
    "    y_val.append(label)\n",
    "\n",
    "\n",
    "for feature, label in test:\n",
    "    x_test.append(feature)\n",
    "    y_test.append(label)\n",
    "\n",
    "# Normalize the data\n",
    "x_train = np.array(x_train) / 255\n",
    "x_val = np.array(x_val) / 255\n",
    "x_test = np.array(x_test) / 255\n",
    "\n",
    "x_train.reshape(-1, img_size, img_size, 1)\n",
    "y_train = np.array(y_train)\n",
    "\n",
    "x_val.reshape(-1, img_size, img_size, 1)\n",
    "y_val = np.array(y_val)\n",
    "\n",
    "x_test.reshape(-1, img_size, img_size, 1)\n",
    "y_test = np.array(y_test)"
   ]
  },
  {
   "cell_type": "code",
   "execution_count": null,
   "id": "1c74c7ca",
   "metadata": {
    "id": "1c74c7ca"
   },
   "outputs": [],
   "source": [
    "datagen = ImageDataGenerator(\n",
    "        featurewise_center=False,\n",
    "        samplewise_center=False,\n",
    "        featurewise_std_normalization=False,\n",
    "        samplewise_std_normalization=False,\n",
    "        zca_whitening=False,\n",
    "        rotation_range = 30,\n",
    "        zoom_range = 0.2,\n",
    "        width_shift_range=0.1,\n",
    "        height_shift_range=0.1,\n",
    "        horizontal_flip = True,\n",
    "        vertical_flip=False)\n",
    "    \n",
    "\n",
    "\n",
    "datagen.fit(x_train)"
   ]
  },
  {
   "cell_type": "code",
   "execution_count": null,
   "id": "936OUDnAGvsR",
   "metadata": {
    "colab": {
     "base_uri": "https://localhost:8080/"
    },
    "id": "936OUDnAGvsR",
    "outputId": "16d0ecb0-e870-46c5-faff-f32b20981bdf"
   },
   "outputs": [
    {
     "name": "stdout",
     "output_type": "stream",
     "text": [
      "Model: \"sequential_1\"\n",
      "_________________________________________________________________\n",
      " Layer (type)                Output Shape              Param #   \n",
      "=================================================================\n",
      " conv2d_3 (Conv2D)           (None, 120, 120, 32)      896       \n",
      "                                                                 \n",
      " max_pooling2d_3 (MaxPooling  (None, 60, 60, 32)       0         \n",
      " 2D)                                                             \n",
      "                                                                 \n",
      " conv2d_4 (Conv2D)           (None, 60, 60, 32)        9248      \n",
      "                                                                 \n",
      " max_pooling2d_4 (MaxPooling  (None, 30, 30, 32)       0         \n",
      " 2D)                                                             \n",
      "                                                                 \n",
      " conv2d_5 (Conv2D)           (None, 30, 30, 64)        18496     \n",
      "                                                                 \n",
      " max_pooling2d_5 (MaxPooling  (None, 15, 15, 64)       0         \n",
      " 2D)                                                             \n",
      "                                                                 \n",
      " dropout_1 (Dropout)         (None, 15, 15, 64)        0         \n",
      "                                                                 \n",
      " flatten_1 (Flatten)         (None, 14400)             0         \n",
      "                                                                 \n",
      " dense_2 (Dense)             (None, 64)                921664    \n",
      "                                                                 \n",
      " dense_3 (Dense)             (None, 2)                 130       \n",
      "                                                                 \n",
      "=================================================================\n",
      "Total params: 950,434\n",
      "Trainable params: 950,434\n",
      "Non-trainable params: 0\n",
      "_________________________________________________________________\n"
     ]
    }
   ],
   "source": [
    "model = Sequential()\n",
    "model.add(Conv2D(32,3,padding=\"same\", activation=\"relu\", input_shape=(120, 120, 3)))\n",
    "model.add(MaxPool2D())\n",
    "\n",
    "model.add(Conv2D(32, 3, padding=\"same\", activation=\"relu\"))\n",
    "model.add(MaxPool2D())\n",
    "\n",
    "model.add(Conv2D(64, 3, padding=\"same\", activation=\"relu\"))\n",
    "model.add(MaxPool2D())\n",
    "model.add(Dropout(0.4))\n",
    "\n",
    "model.add(Flatten())\n",
    "model.add(Dense(64,activation=\"relu\"))\n",
    "model.add(Dense(2, activation=\"sigmoid\"))\n",
    "\n",
    "model.summary()"
   ]
  },
  {
   "cell_type": "code",
   "execution_count": null,
   "id": "J9Ymi5vBG1IX",
   "metadata": {
    "colab": {
     "base_uri": "https://localhost:8080/"
    },
    "id": "J9Ymi5vBG1IX",
    "outputId": "dc73eb51-a07c-4b96-b423-dd65717d7263"
   },
   "outputs": [
    {
     "name": "stderr",
     "output_type": "stream",
     "text": [
      "/usr/local/lib/python3.7/dist-packages/keras/optimizer_v2/adam.py:105: UserWarning: The `lr` argument is deprecated, use `learning_rate` instead.\n",
      "  super(Adam, self).__init__(name, **kwargs)\n"
     ]
    }
   ],
   "source": [
    "opt = Adam(lr=0.001)\n",
    "model.compile(optimizer = opt , loss = tf.keras.losses.SparseCategoricalCrossentropy(from_logits=True) , metrics = ['accuracy'])"
   ]
  },
  {
   "cell_type": "code",
   "execution_count": null,
   "id": "Qn9-xnqRG6b7",
   "metadata": {
    "colab": {
     "base_uri": "https://localhost:8080/"
    },
    "id": "Qn9-xnqRG6b7",
    "outputId": "39747307-1622-460c-b93b-7c60c570b31b"
   },
   "outputs": [
    {
     "name": "stdout",
     "output_type": "stream",
     "text": [
      "Epoch 1/10\n"
     ]
    },
    {
     "name": "stderr",
     "output_type": "stream",
     "text": [
      "/usr/local/lib/python3.7/dist-packages/tensorflow/python/util/dispatch.py:1082: UserWarning: \"`sparse_categorical_crossentropy` received `from_logits=True`, but the `output` argument was produced by a sigmoid or softmax activation and thus does not represent logits. Was this intended?\"\n",
      "  return dispatch_target(*args, **kwargs)\n"
     ]
    },
    {
     "name": "stdout",
     "output_type": "stream",
     "text": [
      "102/102 [==============================] - 58s 560ms/step - loss: 0.6479 - accuracy: 0.6255 - val_loss: 0.5112 - val_accuracy: 0.7546\n",
      "Epoch 2/10\n",
      "102/102 [==============================] - 56s 554ms/step - loss: 0.4437 - accuracy: 0.7935 - val_loss: 0.3178 - val_accuracy: 0.8889\n",
      "Epoch 3/10\n",
      "102/102 [==============================] - 56s 553ms/step - loss: 0.3258 - accuracy: 0.8656 - val_loss: 0.1981 - val_accuracy: 0.9290\n",
      "Epoch 4/10\n",
      "102/102 [==============================] - 56s 554ms/step - loss: 0.2246 - accuracy: 0.9143 - val_loss: 0.1318 - val_accuracy: 0.9537\n",
      "Epoch 5/10\n",
      "102/102 [==============================] - 57s 555ms/step - loss: 0.1674 - accuracy: 0.9356 - val_loss: 0.1156 - val_accuracy: 0.9568\n",
      "Epoch 6/10\n",
      "102/102 [==============================] - 57s 555ms/step - loss: 0.1135 - accuracy: 0.9639 - val_loss: 0.0627 - val_accuracy: 0.9830\n",
      "Epoch 7/10\n",
      "102/102 [==============================] - 57s 556ms/step - loss: 0.0698 - accuracy: 0.9769 - val_loss: 0.0311 - val_accuracy: 0.9954\n",
      "Epoch 8/10\n",
      "102/102 [==============================] - 57s 555ms/step - loss: 0.0722 - accuracy: 0.9747 - val_loss: 0.0398 - val_accuracy: 0.9861\n",
      "Epoch 9/10\n",
      "102/102 [==============================] - 57s 554ms/step - loss: 0.0771 - accuracy: 0.9732 - val_loss: 0.0671 - val_accuracy: 0.9799\n",
      "Epoch 10/10\n",
      "102/102 [==============================] - 56s 553ms/step - loss: 0.0419 - accuracy: 0.9846 - val_loss: 0.0103 - val_accuracy: 0.9969\n"
     ]
    }
   ],
   "source": [
    "history = model.fit(x_train,y_train,epochs = 10 , validation_data = (x_val, y_val))"
   ]
  },
  {
   "cell_type": "code",
   "execution_count": null,
   "id": "gqzNS9UhG8p7",
   "metadata": {
    "id": "gqzNS9UhG8p7"
   },
   "outputs": [],
   "source": [
    "acc = history.history['accuracy']\n",
    "val_acc = history.history['val_accuracy']\n",
    "loss = history.history['loss']\n",
    "val_loss = history.history['val_loss']\n",
    "\n",
    "epochs_range = range(10)\n",
    "\n",
    "# plt.figure(figsize=(15, 15))\n",
    "# plt.subplot(2, 2, 1)\n",
    "# plt.plot(epochs_range, acc, label='Training Accuracy')\n",
    "# plt.plot(epochs_range, val_acc, label='Validation Accuracy')\n",
    "# plt.xlabel('Epoch')\n",
    "# plt.xlabel('Accuracy')\n",
    "# plt.legend(loc='lower right')\n",
    "# # plt.title('Training and Validation Accuracy')\n",
    "\n",
    "# plt.subplot(2, 2, 2)\n",
    "# plt.plot(epochs_range, loss, label='Training Loss')\n",
    "# plt.plot(epochs_range, val_loss, label='Validation Loss')\n",
    "# plt.legend(loc='upper right')\n",
    "# plt.xlabel('Epoch')\n",
    "# plt.xlabel('Loss')\n",
    "# # plt.title('Training and Validation Loss')\n",
    "# plt.show()"
   ]
  },
  {
   "cell_type": "code",
   "execution_count": null,
   "id": "KwrACqcIC85n",
   "metadata": {
    "colab": {
     "base_uri": "https://localhost:8080/",
     "height": 388
    },
    "id": "KwrACqcIC85n",
    "outputId": "4dd6efbe-9f87-43fd-ec11-f200aeefc4da"
   },
   "outputs": [
    {
     "data": {
      "image/png": "[encoded data removed]",
      "text/plain": [
       "<Figure size 432x432 with 1 Axes>"
      ]
     },
     "metadata": {
      "needs_background": "light"
     },
     "output_type": "display_data"
    }
   ],
   "source": [
    "plt.figure(figsize=(6, 6))\n",
    "# plt.subplot(2, 2, 1)\n",
    "plt.plot(epochs_range, loss, label='Training Loss')\n",
    "plt.plot(epochs_range, val_loss, label='Validation Loss')\n",
    "plt.legend(loc='upper right')\n",
    "plt.xlabel('Epoch')\n",
    "plt.xlabel('Loss');\n",
    "# plt.title('Training and Validation Accuracy')"
   ]
  },
  {
   "cell_type": "code",
   "execution_count": null,
   "id": "QUp9MloyC1X7",
   "metadata": {
    "colab": {
     "base_uri": "https://localhost:8080/",
     "height": 388
    },
    "id": "QUp9MloyC1X7",
    "outputId": "f7332b81-280d-47bb-b56d-ef02b3d534a9"
   },
   "outputs": [
    {
     "data": {
      "image/png": "[encoded data removed]",
      "text/plain": [
       "<Figure size 432x432 with 1 Axes>"
      ]
     },
     "metadata": {
      "needs_background": "light"
     },
     "output_type": "display_data"
    }
   ],
   "source": [
    "plt.figure(figsize=(6, 6))\n",
    "# plt.subplot(2, 2, 1)\n",
    "plt.plot(epochs_range, acc, label='Training Accuracy')\n",
    "plt.plot(epochs_range, val_acc, label='Validation Accuracy')\n",
    "plt.xlabel('Epoch')\n",
    "plt.xlabel('Accuracy')\n",
    "plt.legend(loc='lower right');\n",
    "# plt.title('Training and Validation Accuracy')"
   ]
  },
  {
   "cell_type": "code",
   "execution_count": null,
   "id": "-D8Po4vrUnCL",
   "metadata": {
    "colab": {
     "base_uri": "https://localhost:8080/"
    },
    "id": "-D8Po4vrUnCL",
    "outputId": "78cb1e16-62aa-42a5-cd2d-41b10d1356fb"
   },
   "outputs": [
    {
     "name": "stdout",
     "output_type": "stream",
     "text": [
      "43/43 [==============================] - 6s 135ms/step\n"
     ]
    }
   ],
   "source": [
    "predictions = model.predict(x_test, verbose = 1)"
   ]
  },
  {
   "cell_type": "code",
   "execution_count": null,
   "id": "kfWYPv8cV9hL",
   "metadata": {
    "id": "kfWYPv8cV9hL"
   },
   "outputs": [],
   "source": [
    "predictions_ = []\n",
    "for i in predictions:\n",
    "  if i [1] >= 0.5:\n",
    "    predictions_.append(1)\n",
    "  else:\n",
    "    predictions_.append(0)"
   ]
  },
  {
   "cell_type": "code",
   "execution_count": null,
   "id": "M276n_JHXCWY",
   "metadata": {
    "id": "M276n_JHXCWY"
   },
   "outputs": [],
   "source": [
    "# Evaluate model predictions against true labels.\n",
    "stats = Counter()\n",
    "for (x,y) in zip(predictions_, y_test):\n",
    "  if x == y == 1:\n",
    "    stats['TP'] += 1\n",
    "  elif x == y == 0:\n",
    "    stats['TN'] += 1\n",
    "  elif x == 0 and y == 1:\n",
    "    stats['FN'] += 1\n",
    "  elif x == 1 and y == 0:\n",
    "    stats['FP'] += 1"
   ]
  },
  {
   "cell_type": "code",
   "execution_count": null,
   "id": "-anEo71cXVto",
   "metadata": {
    "colab": {
     "base_uri": "https://localhost:8080/"
    },
    "id": "-anEo71cXVto",
    "outputId": "2ebe742c-ee5c-448e-b107-b23ac8f7b96e"
   },
   "outputs": [
    {
     "name": "stdout",
     "output_type": "stream",
     "text": [
      "The test-accuracy is 0.9609\n",
      "The test-precision is 0.9543\n",
      "The test-recall is 0.9760\n",
      "The test-specificity is 0.9423\n",
      "The test-sensitivity is 0.9760\n"
     ]
    }
   ],
   "source": [
    "# Check stats.\n",
    "print(\"The test-accuracy is {:.4f}\".format(\n",
    "    (stats.get('TP') + stats.get('TN'))/(stats.get('TP') + stats.get('TN') + stats.get('FP') + stats.get('FN'))))\n",
    "\n",
    "print(\"The test-precision is {:.4f}\".format(\n",
    "    stats.get('TP')/(stats.get('TP') + stats.get('FP'))))\n",
    "\n",
    "print(\"The test-recall is {:.4f}\".format(\n",
    "    stats.get('TP')/(stats.get('TP') + stats.get('FN'))))\n",
    "\n",
    "print(\"The test-specificity is {:.4f}\".format(\n",
    "    stats.get('TN')/(stats.get('FP') + stats.get('TN'))))\n",
    "\n",
    "print(\"The test-sensitivity is {:.4f}\".format(\n",
    "    stats.get('TP')/(stats.get('TP') + stats.get('FN'))))\n"
   ]
  }
 ],
 "metadata": {
  "colab": {
   "collapsed_sections": [],
   "name": "Assignment8.ipynb",
   "provenance": []
  },
  "kernelspec": {
   "display_name": "Python 3 (ipykernel)",
   "language": "python",
   "name": "python3"
  },
  "language_info": {
   "codemirror_mode": {
    "name": "ipython",
    "version": 3
   },
   "file_extension": ".py",
   "mimetype": "text/x-python",
   "name": "python",
   "nbconvert_exporter": "python",
   "pygments_lexer": "ipython3",
   "version": "3.9.12"
  }
 },
 "nbformat": 4,
 "nbformat_minor": 5
}
